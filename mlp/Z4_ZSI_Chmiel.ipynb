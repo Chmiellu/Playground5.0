{
 "nbformat": 4,
 "nbformat_minor": 0,
 "metadata": {
  "colab": {
   "provenance": []
  },
  "kernelspec": {
   "name": "python3",
   "display_name": "Python 3 (ipykernel)",
   "language": "python"
  },
  "language_info": {
   "name": "python"
  }
 },
 "cells": [
  {
   "cell_type": "code",
   "source": [],
   "metadata": {
    "id": "Gp4co3qD0Pty"
   },
   "execution_count": null,
   "outputs": []
  },
  {
   "cell_type": "markdown",
   "source": [
    "# **Należy zbudować MLP redukując ryzyko przetrenowania modelu, a także stosujące różne metody optymalizacji. Jaka jest dokładność danych uczących, a jaka testowych?**"
   ],
   "metadata": {
    "id": "M4INyUsz0GqR"
   }
  },
  {
   "cell_type": "markdown",
   "source": [
    " Do implementacji sieci neuronowych w Pythonie stosowane są głównie dwa pakiety: TensorFlow i PyTorch. Perceptron wielowarstwowy zostanie zaimplementowany za pomocą interfejsu Keras (stanowi część biblioteki TensorFlow)."
   ],
   "metadata": {
    "id": "R6N9iMBzHEiw"
   }
  },
  {
   "cell_type": "markdown",
   "source": [
    "# **IMPORT ODPOWIEDNICH BIBLIOTEK**"
   ],
   "metadata": {
    "id": "IfCfFiWiskSe"
   }
  },
  {
   "cell_type": "code",
   "source": [
    "import numpy as np\n",
    "import tensorflow as tf\n"
   ],
   "metadata": {
    "id": "DvL19uD1tcas",
    "ExecuteTime": {
     "end_time": "2024-11-20T20:27:09.222173Z",
     "start_time": "2024-11-20T20:27:09.216562Z"
    }
   },
   "outputs": [],
   "execution_count": 6
  },
  {
   "metadata": {
    "ExecuteTime": {
     "end_time": "2024-11-20T20:30:40.477180Z",
     "start_time": "2024-11-20T20:30:32.307733Z"
    }
   },
   "cell_type": "code",
   "source": [
    "import kagglehub\n",
    "\n",
    "# Download latest version\n",
    "path = kagglehub.dataset_download(\"zalando-research/fashionmnist\")\n",
    "\n",
    "print(\"Path to dataset files:\", path)"
   ],
   "outputs": [
    {
     "name": "stderr",
     "output_type": "stream",
     "text": [
      "C:\\Users\\tomek\\Documents\\MAGISTERSKIE\\3sem\\Playground5.0\\.venv\\Lib\\site-packages\\tqdm\\auto.py:21: TqdmWarning: IProgress not found. Please update jupyter and ipywidgets. See https://ipywidgets.readthedocs.io/en/stable/user_install.html\n",
      "  from .autonotebook import tqdm as notebook_tqdm\n"
     ]
    },
    {
     "name": "stdout",
     "output_type": "stream",
     "text": [
      "Downloading from https://www.kaggle.com/api/v1/datasets/download/zalando-research/fashionmnist?dataset_version_number=4...\n"
     ]
    },
    {
     "name": "stderr",
     "output_type": "stream",
     "text": [
      "100%|██████████| 68.8M/68.8M [00:03<00:00, 23.4MB/s]"
     ]
    },
    {
     "name": "stdout",
     "output_type": "stream",
     "text": [
      "Extracting files...\n"
     ]
    },
    {
     "name": "stderr",
     "output_type": "stream",
     "text": [
      "\n"
     ]
    },
    {
     "name": "stdout",
     "output_type": "stream",
     "text": [
      "Path to dataset files: C:\\Users\\tomek\\.cache\\kagglehub\\datasets\\zalando-research\\fashionmnist\\versions\\4\n"
     ]
    }
   ],
   "execution_count": 8
  },
  {
   "cell_type": "markdown",
   "source": [
    "# **WCZYTANIE ZBIORU DANYCH**"
   ],
   "metadata": {
    "id": "bicAPZScspPs"
   }
  },
  {
   "cell_type": "code",
   "source": [
    "import pandas as pd\n",
    "import os\n",
    "\n",
    "# Ścieżka do plików\n",
    "train_file = os.path.join(path, \"fashion-mnist_train.csv\")\n",
    "test_file = os.path.join(path, \"fashion-mnist_test.csv\")\n",
    "\n",
    "# Wczytanie danych\n",
    "train_data = pd.read_csv(train_file)\n",
    "test_data = pd.read_csv(test_file)\n",
    "\n",
    "# Sprawdzenie pierwszych kilku wierszy danych\n",
    "print(\"Train data:\")\n",
    "print(train_data.head())\n",
    "print(\"\\nTest data:\")\n",
    "print(test_data.head())"
   ],
   "metadata": {
    "id": "uTRKgdpgvAW8",
    "colab": {
     "base_uri": "https://localhost:8080/"
    },
    "outputId": "44c35c0e-8fb8-4f47-f701-606b188cb90c",
    "ExecuteTime": {
     "end_time": "2024-11-20T20:32:02.562233Z",
     "start_time": "2024-11-20T20:31:57.000703Z"
    }
   },
   "outputs": [
    {
     "name": "stdout",
     "output_type": "stream",
     "text": [
      "Train data:\n",
      "   label  pixel1  pixel2  pixel3  pixel4  pixel5  pixel6  pixel7  pixel8  \\\n",
      "0      2       0       0       0       0       0       0       0       0   \n",
      "1      9       0       0       0       0       0       0       0       0   \n",
      "2      6       0       0       0       0       0       0       0       5   \n",
      "3      0       0       0       0       1       2       0       0       0   \n",
      "4      3       0       0       0       0       0       0       0       0   \n",
      "\n",
      "   pixel9  ...  pixel775  pixel776  pixel777  pixel778  pixel779  pixel780  \\\n",
      "0       0  ...         0         0         0         0         0         0   \n",
      "1       0  ...         0         0         0         0         0         0   \n",
      "2       0  ...         0         0         0        30        43         0   \n",
      "3       0  ...         3         0         0         0         0         1   \n",
      "4       0  ...         0         0         0         0         0         0   \n",
      "\n",
      "   pixel781  pixel782  pixel783  pixel784  \n",
      "0         0         0         0         0  \n",
      "1         0         0         0         0  \n",
      "2         0         0         0         0  \n",
      "3         0         0         0         0  \n",
      "4         0         0         0         0  \n",
      "\n",
      "[5 rows x 785 columns]\n",
      "\n",
      "Test data:\n",
      "   label  pixel1  pixel2  pixel3  pixel4  pixel5  pixel6  pixel7  pixel8  \\\n",
      "0      0       0       0       0       0       0       0       0       9   \n",
      "1      1       0       0       0       0       0       0       0       0   \n",
      "2      2       0       0       0       0       0       0      14      53   \n",
      "3      2       0       0       0       0       0       0       0       0   \n",
      "4      3       0       0       0       0       0       0       0       0   \n",
      "\n",
      "   pixel9  ...  pixel775  pixel776  pixel777  pixel778  pixel779  pixel780  \\\n",
      "0       8  ...       103        87        56         0         0         0   \n",
      "1       0  ...        34         0         0         0         0         0   \n",
      "2      99  ...         0         0         0         0        63        53   \n",
      "3       0  ...       137       126       140         0       133       224   \n",
      "4       0  ...         0         0         0         0         0         0   \n",
      "\n",
      "   pixel781  pixel782  pixel783  pixel784  \n",
      "0         0         0         0         0  \n",
      "1         0         0         0         0  \n",
      "2        31         0         0         0  \n",
      "3       222        56         0         0  \n",
      "4         0         0         0         0  \n",
      "\n",
      "[5 rows x 785 columns]\n"
     ]
    }
   ],
   "execution_count": 9
  },
  {
   "cell_type": "markdown",
   "source": [
    "# **DATA PREPROCESSING**"
   ],
   "metadata": {
    "id": "ftUZeTwSstWL"
   }
  },
  {
   "cell_type": "markdown",
   "source": [
    "Podczas wczytywania zestawu danych za pomocą modułu Keras należy pamiętać, że każdy obraz będzie reprezentowany w postaci tablicy 28x28, a nie jednowymiarowej tablicy o rozmiarze 784 (moduł Scikit-Learn). Nasycenie kolorami jest wyrażone liczbami całkowitymi."
   ],
   "metadata": {
    "id": "sOzUMWw71MOs"
   }
  },
  {
   "cell_type": "markdown",
   "source": [
    "Zmiana rozmiaru, przekształcenie macierzy 28 x 28 na wektor 784 cech. Normalizacja odcienia pikseli do zakresu [0,1] -> dzielenie przez 255"
   ],
   "metadata": {
    "id": "aC27WVgd2Prg"
   }
  },
  {
   "cell_type": "code",
   "source": [],
   "metadata": {
    "id": "lnAOKVSs104a"
   },
   "execution_count": null,
   "outputs": []
  },
  {
   "cell_type": "code",
   "source": [
    "X_train = train_data.iloc[:, 1:].values  \n",
    "y_train = train_data.iloc[:, 0].values  \n",
    "\n",
    "X_test = test_data.iloc[:, 1:].values\n",
    "y_test = test_data.iloc[:, 0].values\n",
    "\n",
    "print(f\"X_train shape: {X_train.shape}, y_train shape: {y_train.shape}\")\n",
    "print(f\"X_test shape: {X_test.shape}, y_test shape: {y_test.shape}\")"
   ],
   "metadata": {
    "id": "C9wSFUcoxy9d",
    "ExecuteTime": {
     "end_time": "2024-11-20T20:58:09.746245Z",
     "start_time": "2024-11-20T20:58:09.695833Z"
    }
   },
   "outputs": [
    {
     "name": "stdout",
     "output_type": "stream",
     "text": [
      "X_train shape: (60000, 784), y_train shape: (60000,)\n",
      "X_test shape: (10000, 784), y_test shape: (10000,)\n"
     ]
    }
   ],
   "execution_count": 10
  },
  {
   "cell_type": "markdown",
   "source": [
    "Przy korzystaniu z klasycznych algorytmów uczenia maszynowego do rozwiązywania problemów klasyfikacji i regresji, dane były dzielone na dwa zbiory: treningowy i testowy. Tym razem dane należy podzielić na trzy zbiory: uczący, walidacyjny i testowy. Zbiór uczący wykorzystywany jest do treningu modelu, a testowy do jego ewaluacji. Zbiór walidacyjny posłuży do ewaluacji sieci neuronowej podczas treningu. Zbiór MNIST jest podzielony na zbiór uczący i testowy, natomiast wyodrębnimy 5000 obrazów ze zbioru treningowego do walidacji."
   ],
   "metadata": {
    "id": "dvV19Jvtx59I"
   }
  },
  {
   "cell_type": "code",
   "source": [
    "# Normalizacja danych\n",
    "X_train = X_train / 255.0\n",
    "X_test = X_test / 255.0\n",
    "\n",
    "# Sprawdź zakres wartości po normalizacji\n",
    "print(f\"Minimalna wartość w X_train: {X_train.min()}, maksymalna: {X_train.max()}\")\n",
    "print(f\"Minimalna wartość w X_test: {X_test.min()}, maksymalna: {X_test.max()}\")\n",
    "\n"
   ],
   "metadata": {
    "id": "WUB67PLNv1xg",
    "ExecuteTime": {
     "end_time": "2024-11-20T21:01:36.643991Z",
     "start_time": "2024-11-20T21:01:32.296984Z"
    }
   },
   "outputs": [
    {
     "name": "stdout",
     "output_type": "stream",
     "text": [
      "Minimalna wartość w X_train: 0.0, maksymalna: 1.0\n",
      "Minimalna wartość w X_test: 0.0, maksymalna: 1.0\n"
     ]
    }
   ],
   "execution_count": 11
  },
  {
   "cell_type": "code",
   "source": [
    "X_train = X_train.reshape(-1, 28, 28)\n",
    "X_test = X_test.reshape(-1, 28, 28)\n",
    "\n",
    "print(f\"X_train reshaped shape: {X_train.shape}\")\n",
    "print(f\"X_test reshaped shape: {X_test.shape}\")"
   ],
   "metadata": {
    "id": "uNwThIgbztn6",
    "ExecuteTime": {
     "end_time": "2024-11-20T21:01:53.938364Z",
     "start_time": "2024-11-20T21:01:53.924506Z"
    }
   },
   "outputs": [
    {
     "name": "stdout",
     "output_type": "stream",
     "text": [
      "X_train reshaped shape: (60000, 28, 28)\n",
      "X_test reshaped shape: (10000, 28, 28)\n"
     ]
    }
   ],
   "execution_count": 12
  },
  {
   "metadata": {
    "ExecuteTime": {
     "end_time": "2024-11-20T21:09:25.412770Z",
     "start_time": "2024-11-20T21:09:25.124365Z"
    }
   },
   "cell_type": "code",
   "source": [
    "from tensorflow.keras.utils import to_categorical\n",
    "\n",
    "y_train_one_hot = to_categorical(y_train, num_classes=10)\n",
    "y_test_one_hot = to_categorical(y_test, num_classes=10)\n",
    "\n",
    "print(f\"y_train_one_hot shape: {y_train_one_hot.shape}\")\n",
    "print(f\"y_test_one_hot shape: {y_test_one_hot.shape}\")\n"
   ],
   "outputs": [
    {
     "name": "stdout",
     "output_type": "stream",
     "text": [
      "y_train_one_hot shape: (60000, 10)\n",
      "y_test_one_hot shape: (10000, 10)\n"
     ]
    }
   ],
   "execution_count": 13
  },
  {
   "metadata": {},
   "cell_type": "code",
   "outputs": [],
   "execution_count": null,
   "source": ""
  },
  {
   "metadata": {
    "ExecuteTime": {
     "end_time": "2024-11-20T21:09:55.609903Z",
     "start_time": "2024-11-20T21:09:52.884385Z"
    }
   },
   "cell_type": "code",
   "source": [
    "import matplotlib.pyplot as plt\n",
    "\n",
    "fig, axes = plt.subplots(1, 5, figsize=(10, 3))\n",
    "for i in range(5):\n",
    "    axes[i].imshow(X_train[i], cmap='gray')\n",
    "    axes[i].axis('off')\n",
    "    axes[i].set_title(f\"Label: {y_train[i]}\")\n",
    "plt.show()"
   ],
   "outputs": [
    {
     "data": {
      "text/plain": [
       "<Figure size 1000x300 with 5 Axes>"
      ],
      "image/png": "[encoded data removed]"
     },
     "metadata": {},
     "output_type": "display_data"
    }
   ],
   "execution_count": 14
  },
  {
   "metadata": {},
   "cell_type": "code",
   "outputs": [],
   "execution_count": null,
   "source": ""
  },
  {
   "metadata": {
    "ExecuteTime": {
     "end_time": "2024-11-20T21:10:36.712686Z",
     "start_time": "2024-11-20T21:10:22.034153Z"
    }
   },
   "cell_type": "code",
   "source": [
    "from sklearn.model_selection import train_test_split\n",
    "\n",
    "X_train_full, X_val, y_train_full, y_val = train_test_split(\n",
    "    X_train, y_train_one_hot, test_size=5000 / len(X_train), random_state=42\n",
    ")\n",
    "\n",
    "print(f\"Rozmiar zbioru uczącego: {X_train_full.shape}\")\n",
    "print(f\"Rozmiar zbioru walidacyjnego: {X_val.shape}\")\n",
    "print(f\"Rozmiar zbioru testowego: {X_test.shape}\")\n"
   ],
   "outputs": [
    {
     "name": "stdout",
     "output_type": "stream",
     "text": [
      "Rozmiar zbioru uczącego: (55000, 28, 28)\n",
      "Rozmiar zbioru walidacyjnego: (5000, 28, 28)\n",
      "Rozmiar zbioru testowego: (10000, 28, 28)\n"
     ]
    }
   ],
   "execution_count": 15
  },
  {
   "cell_type": "markdown",
   "source": [
    "# **TWORZENIE MODELU PERPECTRONU WIELOWARSTWOWEGO**"
   ],
   "metadata": {
    "id": "L5ka245K57C5"
   }
  },
  {
   "cell_type": "markdown",
   "source": [
    "Model:\n",
    "*   Ziarno losowości = 42.\n",
    "*   Pierwsza warstwa (InputLayer): wymiary warstwy (shape) odnoszą się do wymiarów obiektów. Keras musi znać wymiary danych wejściowych.\n",
    "*   Warstwa ukryta gęsta (Dense) składająca się z 256 neuronów, która korzysta z funkcji aktywacji ReLU (każda warswa Dense zarządza swoją macierzą wag oraz wektorem obciążeń)\n",
    "*   Warstwa porzucenia, gdzie połowa neuronów zostanie wyłączona.\n",
    "*   Warstwa ukryta gęsta (Dense) składająca się z 256 neuronów, która korzysta z funkcji aktywacji ReLU\n",
    "*   Warstwa porzucenia, gdzie połowa neuronów zostanie wyłączona.\n",
    "*   Warstwa wyjściowa gęsta (Dense) składająca się z 10 neuronów (po jednym na każdą klasę) z wyznaczoną funkcją aktywacji softmax, ponieważ klasy wykluczają się wzajemnie\n"
   ],
   "metadata": {
    "id": "mqzCZd4xtM0U"
   }
  },
  {
   "cell_type": "markdown",
   "source": [
    "Zapobieganie przeuczeniu modelu:\n",
    "\n",
    "*   zmniejszenie liczby epok\n",
    "*   **wprowadzenie callbacks**\n",
    "*   **wyłączenie części neuronów (Dropout layers)**\n",
    "\n"
   ],
   "metadata": {
    "id": "3jWZnILMzwRi"
   }
  },
  {
   "cell_type": "code",
   "source": [
    "import tensorflow as tf\n",
    "from tensorflow.keras import Sequential\n",
    "from tensorflow.keras.layers import Dense, Flatten\n",
    "\n",
    "model = Sequential([\n",
    "    Flatten(input_shape=(28, 28)),  \n",
    "    Dense(128, activation='relu'),  \n",
    "    Dense(64, activation='relu'),   \n",
    "    Dense(10, activation='softmax') \n",
    "])\n",
    "\n",
    "model.compile(\n",
    "    optimizer='adam',               \n",
    "    loss='categorical_crossentropy', \n",
    "    metrics=['accuracy']             \n",
    ")\n",
    "\n",
    "model.summary()\n"
   ],
   "metadata": {
    "id": "ge1FE-WD8PAf",
    "ExecuteTime": {
     "end_time": "2024-11-20T21:18:38.375904Z",
     "start_time": "2024-11-20T21:18:36.111411Z"
    }
   },
   "outputs": [
    {
     "name": "stderr",
     "output_type": "stream",
     "text": [
      "C:\\Users\\tomek\\Documents\\MAGISTERSKIE\\3sem\\Playground5.0\\.venv\\Lib\\site-packages\\keras\\src\\layers\\reshaping\\flatten.py:37: UserWarning: Do not pass an `input_shape`/`input_dim` argument to a layer. When using Sequential models, prefer using an `Input(shape)` object as the first layer in the model instead.\n",
      "  super().__init__(**kwargs)\n"
     ]
    },
    {
     "data": {
      "text/plain": [
       "\u001B[1mModel: \"sequential\"\u001B[0m\n"
      ],
      "text/html": [
       "<pre style=\"white-space:pre;overflow-x:auto;line-height:normal;font-family:Menlo,'DejaVu Sans Mono',consolas,'Courier New',monospace\"><span style=\"font-weight: bold\">Model: \"sequential\"</span>\n",
       "</pre>\n"
      ]
     },
     "metadata": {},
     "output_type": "display_data"
    },
    {
     "data": {
      "text/plain": [
       "┏━━━━━━━━━━━━━━━━━━━━━━━━━━━━━━━━━┳━━━━━━━━━━━━━━━━━━━━━━━━┳━━━━━━━━━━━━━━━┓\n",
       "┃\u001B[1m \u001B[0m\u001B[1mLayer (type)                   \u001B[0m\u001B[1m \u001B[0m┃\u001B[1m \u001B[0m\u001B[1mOutput Shape          \u001B[0m\u001B[1m \u001B[0m┃\u001B[1m \u001B[0m\u001B[1m      Param #\u001B[0m\u001B[1m \u001B[0m┃\n",
       "┡━━━━━━━━━━━━━━━━━━━━━━━━━━━━━━━━━╇━━━━━━━━━━━━━━━━━━━━━━━━╇━━━━━━━━━━━━━━━┩\n",
       "│ flatten (\u001B[38;5;33mFlatten\u001B[0m)               │ (\u001B[38;5;45mNone\u001B[0m, \u001B[38;5;34m784\u001B[0m)            │             \u001B[38;5;34m0\u001B[0m │\n",
       "├─────────────────────────────────┼────────────────────────┼───────────────┤\n",
       "│ dense (\u001B[38;5;33mDense\u001B[0m)                   │ (\u001B[38;5;45mNone\u001B[0m, \u001B[38;5;34m128\u001B[0m)            │       \u001B[38;5;34m100,480\u001B[0m │\n",
       "├─────────────────────────────────┼────────────────────────┼───────────────┤\n",
       "│ dense_1 (\u001B[38;5;33mDense\u001B[0m)                 │ (\u001B[38;5;45mNone\u001B[0m, \u001B[38;5;34m64\u001B[0m)             │         \u001B[38;5;34m8,256\u001B[0m │\n",
       "├─────────────────────────────────┼────────────────────────┼───────────────┤\n",
       "│ dense_2 (\u001B[38;5;33mDense\u001B[0m)                 │ (\u001B[38;5;45mNone\u001B[0m, \u001B[38;5;34m10\u001B[0m)             │           \u001B[38;5;34m650\u001B[0m │\n",
       "└─────────────────────────────────┴────────────────────────┴───────────────┘\n"
      ],
      "text/html": [
       "<pre style=\"white-space:pre;overflow-x:auto;line-height:normal;font-family:Menlo,'DejaVu Sans Mono',consolas,'Courier New',monospace\">┏━━━━━━━━━━━━━━━━━━━━━━━━━━━━━━━━━┳━━━━━━━━━━━━━━━━━━━━━━━━┳━━━━━━━━━━━━━━━┓\n",
       "┃<span style=\"font-weight: bold\"> Layer (type)                    </span>┃<span style=\"font-weight: bold\"> Output Shape           </span>┃<span style=\"font-weight: bold\">       Param # </span>┃\n",
       "┡━━━━━━━━━━━━━━━━━━━━━━━━━━━━━━━━━╇━━━━━━━━━━━━━━━━━━━━━━━━╇━━━━━━━━━━━━━━━┩\n",
       "│ flatten (<span style=\"color: #0087ff; text-decoration-color: #0087ff\">Flatten</span>)               │ (<span style=\"color: #00d7ff; text-decoration-color: #00d7ff\">None</span>, <span style=\"color: #00af00; text-decoration-color: #00af00\">784</span>)            │             <span style=\"color: #00af00; text-decoration-color: #00af00\">0</span> │\n",
       "├─────────────────────────────────┼────────────────────────┼───────────────┤\n",
       "│ dense (<span style=\"color: #0087ff; text-decoration-color: #0087ff\">Dense</span>)                   │ (<span style=\"color: #00d7ff; text-decoration-color: #00d7ff\">None</span>, <span style=\"color: #00af00; text-decoration-color: #00af00\">128</span>)            │       <span style=\"color: #00af00; text-decoration-color: #00af00\">100,480</span> │\n",
       "├─────────────────────────────────┼────────────────────────┼───────────────┤\n",
       "│ dense_1 (<span style=\"color: #0087ff; text-decoration-color: #0087ff\">Dense</span>)                 │ (<span style=\"color: #00d7ff; text-decoration-color: #00d7ff\">None</span>, <span style=\"color: #00af00; text-decoration-color: #00af00\">64</span>)             │         <span style=\"color: #00af00; text-decoration-color: #00af00\">8,256</span> │\n",
       "├─────────────────────────────────┼────────────────────────┼───────────────┤\n",
       "│ dense_2 (<span style=\"color: #0087ff; text-decoration-color: #0087ff\">Dense</span>)                 │ (<span style=\"color: #00d7ff; text-decoration-color: #00d7ff\">None</span>, <span style=\"color: #00af00; text-decoration-color: #00af00\">10</span>)             │           <span style=\"color: #00af00; text-decoration-color: #00af00\">650</span> │\n",
       "└─────────────────────────────────┴────────────────────────┴───────────────┘\n",
       "</pre>\n"
      ]
     },
     "metadata": {},
     "output_type": "display_data"
    },
    {
     "data": {
      "text/plain": [
       "\u001B[1m Total params: \u001B[0m\u001B[38;5;34m109,386\u001B[0m (427.29 KB)\n"
      ],
      "text/html": [
       "<pre style=\"white-space:pre;overflow-x:auto;line-height:normal;font-family:Menlo,'DejaVu Sans Mono',consolas,'Courier New',monospace\"><span style=\"font-weight: bold\"> Total params: </span><span style=\"color: #00af00; text-decoration-color: #00af00\">109,386</span> (427.29 KB)\n",
       "</pre>\n"
      ]
     },
     "metadata": {},
     "output_type": "display_data"
    },
    {
     "data": {
      "text/plain": [
       "\u001B[1m Trainable params: \u001B[0m\u001B[38;5;34m109,386\u001B[0m (427.29 KB)\n"
      ],
      "text/html": [
       "<pre style=\"white-space:pre;overflow-x:auto;line-height:normal;font-family:Menlo,'DejaVu Sans Mono',consolas,'Courier New',monospace\"><span style=\"font-weight: bold\"> Trainable params: </span><span style=\"color: #00af00; text-decoration-color: #00af00\">109,386</span> (427.29 KB)\n",
       "</pre>\n"
      ]
     },
     "metadata": {},
     "output_type": "display_data"
    },
    {
     "data": {
      "text/plain": [
       "\u001B[1m Non-trainable params: \u001B[0m\u001B[38;5;34m0\u001B[0m (0.00 B)\n"
      ],
      "text/html": [
       "<pre style=\"white-space:pre;overflow-x:auto;line-height:normal;font-family:Menlo,'DejaVu Sans Mono',consolas,'Courier New',monospace\"><span style=\"font-weight: bold\"> Non-trainable params: </span><span style=\"color: #00af00; text-decoration-color: #00af00\">0</span> (0.00 B)\n",
       "</pre>\n"
      ]
     },
     "metadata": {},
     "output_type": "display_data"
    }
   ],
   "execution_count": 16
  },
  {
   "cell_type": "markdown",
   "source": [
    "Jaka jest liczba parametrów w poszczególnych warstwach modelu?"
   ],
   "metadata": {
    "id": "Nc8eVTI2LdFM"
   }
  },
  {
   "cell_type": "code",
   "source": [
    "model.summary()"
   ],
   "metadata": {
    "id": "xlM5OVrhwjwq",
    "colab": {
     "base_uri": "https://localhost:8080/",
     "height": 293
    },
    "outputId": "90bbef87-6c8f-43f7-b1c5-af71e51669f5",
    "ExecuteTime": {
     "end_time": "2024-11-20T21:19:07.444126Z",
     "start_time": "2024-11-20T21:19:07.410861Z"
    }
   },
   "outputs": [
    {
     "data": {
      "text/plain": [
       "\u001B[1mModel: \"sequential\"\u001B[0m\n"
      ],
      "text/html": [
       "<pre style=\"white-space:pre;overflow-x:auto;line-height:normal;font-family:Menlo,'DejaVu Sans Mono',consolas,'Courier New',monospace\"><span style=\"font-weight: bold\">Model: \"sequential\"</span>\n",
       "</pre>\n"
      ]
     },
     "metadata": {},
     "output_type": "display_data"
    },
    {
     "data": {
      "text/plain": [
       "┏━━━━━━━━━━━━━━━━━━━━━━━━━━━━━━━━━┳━━━━━━━━━━━━━━━━━━━━━━━━┳━━━━━━━━━━━━━━━┓\n",
       "┃\u001B[1m \u001B[0m\u001B[1mLayer (type)                   \u001B[0m\u001B[1m \u001B[0m┃\u001B[1m \u001B[0m\u001B[1mOutput Shape          \u001B[0m\u001B[1m \u001B[0m┃\u001B[1m \u001B[0m\u001B[1m      Param #\u001B[0m\u001B[1m \u001B[0m┃\n",
       "┡━━━━━━━━━━━━━━━━━━━━━━━━━━━━━━━━━╇━━━━━━━━━━━━━━━━━━━━━━━━╇━━━━━━━━━━━━━━━┩\n",
       "│ flatten (\u001B[38;5;33mFlatten\u001B[0m)               │ (\u001B[38;5;45mNone\u001B[0m, \u001B[38;5;34m784\u001B[0m)            │             \u001B[38;5;34m0\u001B[0m │\n",
       "├─────────────────────────────────┼────────────────────────┼───────────────┤\n",
       "│ dense (\u001B[38;5;33mDense\u001B[0m)                   │ (\u001B[38;5;45mNone\u001B[0m, \u001B[38;5;34m128\u001B[0m)            │       \u001B[38;5;34m100,480\u001B[0m │\n",
       "├─────────────────────────────────┼────────────────────────┼───────────────┤\n",
       "│ dense_1 (\u001B[38;5;33mDense\u001B[0m)                 │ (\u001B[38;5;45mNone\u001B[0m, \u001B[38;5;34m64\u001B[0m)             │         \u001B[38;5;34m8,256\u001B[0m │\n",
       "├─────────────────────────────────┼────────────────────────┼───────────────┤\n",
       "│ dense_2 (\u001B[38;5;33mDense\u001B[0m)                 │ (\u001B[38;5;45mNone\u001B[0m, \u001B[38;5;34m10\u001B[0m)             │           \u001B[38;5;34m650\u001B[0m │\n",
       "└─────────────────────────────────┴────────────────────────┴───────────────┘\n"
      ],
      "text/html": [
       "<pre style=\"white-space:pre;overflow-x:auto;line-height:normal;font-family:Menlo,'DejaVu Sans Mono',consolas,'Courier New',monospace\">┏━━━━━━━━━━━━━━━━━━━━━━━━━━━━━━━━━┳━━━━━━━━━━━━━━━━━━━━━━━━┳━━━━━━━━━━━━━━━┓\n",
       "┃<span style=\"font-weight: bold\"> Layer (type)                    </span>┃<span style=\"font-weight: bold\"> Output Shape           </span>┃<span style=\"font-weight: bold\">       Param # </span>┃\n",
       "┡━━━━━━━━━━━━━━━━━━━━━━━━━━━━━━━━━╇━━━━━━━━━━━━━━━━━━━━━━━━╇━━━━━━━━━━━━━━━┩\n",
       "│ flatten (<span style=\"color: #0087ff; text-decoration-color: #0087ff\">Flatten</span>)               │ (<span style=\"color: #00d7ff; text-decoration-color: #00d7ff\">None</span>, <span style=\"color: #00af00; text-decoration-color: #00af00\">784</span>)            │             <span style=\"color: #00af00; text-decoration-color: #00af00\">0</span> │\n",
       "├─────────────────────────────────┼────────────────────────┼───────────────┤\n",
       "│ dense (<span style=\"color: #0087ff; text-decoration-color: #0087ff\">Dense</span>)                   │ (<span style=\"color: #00d7ff; text-decoration-color: #00d7ff\">None</span>, <span style=\"color: #00af00; text-decoration-color: #00af00\">128</span>)            │       <span style=\"color: #00af00; text-decoration-color: #00af00\">100,480</span> │\n",
       "├─────────────────────────────────┼────────────────────────┼───────────────┤\n",
       "│ dense_1 (<span style=\"color: #0087ff; text-decoration-color: #0087ff\">Dense</span>)                 │ (<span style=\"color: #00d7ff; text-decoration-color: #00d7ff\">None</span>, <span style=\"color: #00af00; text-decoration-color: #00af00\">64</span>)             │         <span style=\"color: #00af00; text-decoration-color: #00af00\">8,256</span> │\n",
       "├─────────────────────────────────┼────────────────────────┼───────────────┤\n",
       "│ dense_2 (<span style=\"color: #0087ff; text-decoration-color: #0087ff\">Dense</span>)                 │ (<span style=\"color: #00d7ff; text-decoration-color: #00d7ff\">None</span>, <span style=\"color: #00af00; text-decoration-color: #00af00\">10</span>)             │           <span style=\"color: #00af00; text-decoration-color: #00af00\">650</span> │\n",
       "└─────────────────────────────────┴────────────────────────┴───────────────┘\n",
       "</pre>\n"
      ]
     },
     "metadata": {},
     "output_type": "display_data"
    },
    {
     "data": {
      "text/plain": [
       "\u001B[1m Total params: \u001B[0m\u001B[38;5;34m109,386\u001B[0m (427.29 KB)\n"
      ],
      "text/html": [
       "<pre style=\"white-space:pre;overflow-x:auto;line-height:normal;font-family:Menlo,'DejaVu Sans Mono',consolas,'Courier New',monospace\"><span style=\"font-weight: bold\"> Total params: </span><span style=\"color: #00af00; text-decoration-color: #00af00\">109,386</span> (427.29 KB)\n",
       "</pre>\n"
      ]
     },
     "metadata": {},
     "output_type": "display_data"
    },
    {
     "data": {
      "text/plain": [
       "\u001B[1m Trainable params: \u001B[0m\u001B[38;5;34m109,386\u001B[0m (427.29 KB)\n"
      ],
      "text/html": [
       "<pre style=\"white-space:pre;overflow-x:auto;line-height:normal;font-family:Menlo,'DejaVu Sans Mono',consolas,'Courier New',monospace\"><span style=\"font-weight: bold\"> Trainable params: </span><span style=\"color: #00af00; text-decoration-color: #00af00\">109,386</span> (427.29 KB)\n",
       "</pre>\n"
      ]
     },
     "metadata": {},
     "output_type": "display_data"
    },
    {
     "data": {
      "text/plain": [
       "\u001B[1m Non-trainable params: \u001B[0m\u001B[38;5;34m0\u001B[0m (0.00 B)\n"
      ],
      "text/html": [
       "<pre style=\"white-space:pre;overflow-x:auto;line-height:normal;font-family:Menlo,'DejaVu Sans Mono',consolas,'Courier New',monospace\"><span style=\"font-weight: bold\"> Non-trainable params: </span><span style=\"color: #00af00; text-decoration-color: #00af00\">0</span> (0.00 B)\n",
       "</pre>\n"
      ]
     },
     "metadata": {},
     "output_type": "display_data"
    }
   ],
   "execution_count": 17
  },
  {
   "cell_type": "code",
   "source": [],
   "metadata": {
    "id": "dtFYCmez-Be8"
   },
   "execution_count": null,
   "outputs": []
  },
  {
   "cell_type": "markdown",
   "source": [
    "# **TRENOWANIE MODELU**"
   ],
   "metadata": {
    "id": "XHtk9lrksu23"
   }
  },
  {
   "cell_type": "markdown",
   "source": [
    "Należy wywołać metodę fit():\n",
    "*   cechy wejściowe (X_train)\n",
    "*   Klasy docelowe (y_train)\n",
    "*   Liczba epok (epochs) = 100\n",
    "*   Przebieg walidacyjny\n",
    "*   Callbacks\n",
    "\n"
   ],
   "metadata": {
    "id": "CvlcqL2PRRvM"
   }
  },
  {
   "cell_type": "markdown",
   "source": [
    "Należy stworzyć obiekt EarlyStopping w TensorFlow, który służy do wczesnego zatrzymania trenowania modelu, aby zapobiec nadmiernemu dopasowaniu. Jeśli przez 3 kolejne epoki wartość val_loss nie zmniejszy się (lub wręcz wzrośnie), trenowanie zostanie przerwane."
   ],
   "metadata": {
    "id": "XcKwnzaA1n4V"
   }
  },
  {
   "cell_type": "code",
   "source": [
    "from tensorflow.keras.callbacks import EarlyStopping\n",
    "\n",
    "early_stopping = EarlyStopping(\n",
    "    monitor='val_loss',    \n",
    "    patience=3,            # Przerwanie, jeśli brak poprawy przez 3 epoki\n",
    "    restore_best_weights=True  \n",
    ")\n",
    "\n",
    "# Trenowanie modelu\n",
    "history = model.fit(\n",
    "    X_train_full,           \n",
    "    y_train_full,          \n",
    "    epochs=100,             \n",
    "    validation_data=(X_val, y_val),  \n",
    "    callbacks=[early_stopping],     \n",
    "    batch_size=32           \n",
    ")\n",
    "\n",
    "print(\"Trenowanie zakończone.\")\n"
   ],
   "metadata": {
    "id": "DSrhi-9laVZh",
    "ExecuteTime": {
     "end_time": "2024-11-20T21:24:50.797328Z",
     "start_time": "2024-11-20T21:24:12.922183Z"
    }
   },
   "outputs": [
    {
     "name": "stdout",
     "output_type": "stream",
     "text": [
      "Epoch 1/100\n",
      "\u001B[1m1719/1719\u001B[0m \u001B[32m━━━━━━━━━━━━━━━━━━━━\u001B[0m\u001B[37m\u001B[0m \u001B[1m7s\u001B[0m 3ms/step - accuracy: 0.7637 - loss: 0.6603 - val_accuracy: 0.8454 - val_loss: 0.4182\n",
      "Epoch 2/100\n",
      "\u001B[1m1719/1719\u001B[0m \u001B[32m━━━━━━━━━━━━━━━━━━━━\u001B[0m\u001B[37m\u001B[0m \u001B[1m4s\u001B[0m 2ms/step - accuracy: 0.8618 - loss: 0.3798 - val_accuracy: 0.8748 - val_loss: 0.3479\n",
      "Epoch 3/100\n",
      "\u001B[1m1719/1719\u001B[0m \u001B[32m━━━━━━━━━━━━━━━━━━━━\u001B[0m\u001B[37m\u001B[0m \u001B[1m4s\u001B[0m 2ms/step - accuracy: 0.8772 - loss: 0.3397 - val_accuracy: 0.8714 - val_loss: 0.3482\n",
      "Epoch 4/100\n",
      "\u001B[1m1719/1719\u001B[0m \u001B[32m━━━━━━━━━━━━━━━━━━━━\u001B[0m\u001B[37m\u001B[0m \u001B[1m4s\u001B[0m 2ms/step - accuracy: 0.8880 - loss: 0.3067 - val_accuracy: 0.8754 - val_loss: 0.3179\n",
      "Epoch 5/100\n",
      "\u001B[1m1719/1719\u001B[0m \u001B[32m━━━━━━━━━━━━━━━━━━━━\u001B[0m\u001B[37m\u001B[0m \u001B[1m4s\u001B[0m 2ms/step - accuracy: 0.8925 - loss: 0.2930 - val_accuracy: 0.8848 - val_loss: 0.3053\n",
      "Epoch 6/100\n",
      "\u001B[1m1719/1719\u001B[0m \u001B[32m━━━━━━━━━━━━━━━━━━━━\u001B[0m\u001B[37m\u001B[0m \u001B[1m4s\u001B[0m 2ms/step - accuracy: 0.8988 - loss: 0.2813 - val_accuracy: 0.8872 - val_loss: 0.3184\n",
      "Epoch 7/100\n",
      "\u001B[1m1719/1719\u001B[0m \u001B[32m━━━━━━━━━━━━━━━━━━━━\u001B[0m\u001B[37m\u001B[0m \u001B[1m4s\u001B[0m 2ms/step - accuracy: 0.9002 - loss: 0.2671 - val_accuracy: 0.8884 - val_loss: 0.3164\n",
      "Epoch 8/100\n",
      "\u001B[1m1719/1719\u001B[0m \u001B[32m━━━━━━━━━━━━━━━━━━━━\u001B[0m\u001B[37m\u001B[0m \u001B[1m4s\u001B[0m 2ms/step - accuracy: 0.9066 - loss: 0.2543 - val_accuracy: 0.8848 - val_loss: 0.3192\n",
      "Trenowanie zakończone.\n"
     ]
    }
   ],
   "execution_count": 18
  },
  {
   "cell_type": "code",
   "source": [],
   "metadata": {
    "id": "pxL2Btxs-B8e",
    "colab": {
     "base_uri": "https://localhost:8080/"
    },
    "outputId": "4970c72b-fde1-4a82-8a3a-2f36a7f73f46"
   },
   "execution_count": null,
   "outputs": [
    {
     "output_type": "stream",
     "name": "stdout",
     "text": [
      "Epoch 1/100\n",
      "\u001B[1m430/430\u001B[0m \u001B[32m━━━━━━━━━━━━━━━━━━━━\u001B[0m\u001B[37m\u001B[0m \u001B[1m6s\u001B[0m 10ms/step - accuracy: 0.7650 - loss: 0.7498 - val_accuracy: 0.9652 - val_loss: 0.1300\n",
      "Epoch 2/100\n",
      "\u001B[1m430/430\u001B[0m \u001B[32m━━━━━━━━━━━━━━━━━━━━\u001B[0m\u001B[37m\u001B[0m \u001B[1m5s\u001B[0m 9ms/step - accuracy: 0.9290 - loss: 0.2484 - val_accuracy: 0.9722 - val_loss: 0.0986\n",
      "Epoch 3/100\n",
      "\u001B[1m430/430\u001B[0m \u001B[32m━━━━━━━━━━━━━━━━━━━━\u001B[0m\u001B[37m\u001B[0m \u001B[1m6s\u001B[0m 11ms/step - accuracy: 0.9450 - loss: 0.1880 - val_accuracy: 0.9754 - val_loss: 0.0870\n",
      "Epoch 4/100\n",
      "\u001B[1m430/430\u001B[0m \u001B[32m━━━━━━━━━━━━━━━━━━━━\u001B[0m\u001B[37m\u001B[0m \u001B[1m4s\u001B[0m 9ms/step - accuracy: 0.9529 - loss: 0.1618 - val_accuracy: 0.9742 - val_loss: 0.0881\n",
      "Epoch 5/100\n",
      "\u001B[1m430/430\u001B[0m \u001B[32m━━━━━━━━━━━━━━━━━━━━\u001B[0m\u001B[37m\u001B[0m \u001B[1m5s\u001B[0m 11ms/step - accuracy: 0.9583 - loss: 0.1456 - val_accuracy: 0.9762 - val_loss: 0.0804\n",
      "Epoch 6/100\n",
      "\u001B[1m430/430\u001B[0m \u001B[32m━━━━━━━━━━━━━━━━━━━━\u001B[0m\u001B[37m\u001B[0m \u001B[1m5s\u001B[0m 11ms/step - accuracy: 0.9622 - loss: 0.1332 - val_accuracy: 0.9778 - val_loss: 0.0812\n",
      "Epoch 7/100\n",
      "\u001B[1m430/430\u001B[0m \u001B[32m━━━━━━━━━━━━━━━━━━━━\u001B[0m\u001B[37m\u001B[0m \u001B[1m4s\u001B[0m 9ms/step - accuracy: 0.9630 - loss: 0.1320 - val_accuracy: 0.9782 - val_loss: 0.0835\n",
      "Epoch 8/100\n",
      "\u001B[1m430/430\u001B[0m \u001B[32m━━━━━━━━━━━━━━━━━━━━\u001B[0m\u001B[37m\u001B[0m \u001B[1m6s\u001B[0m 12ms/step - accuracy: 0.9657 - loss: 0.1181 - val_accuracy: 0.9796 - val_loss: 0.0804\n",
      "Epoch 9/100\n",
      "\u001B[1m430/430\u001B[0m \u001B[32m━━━━━━━━━━━━━━━━━━━━\u001B[0m\u001B[37m\u001B[0m \u001B[1m9s\u001B[0m 9ms/step - accuracy: 0.9672 - loss: 0.1148 - val_accuracy: 0.9802 - val_loss: 0.0792\n",
      "Epoch 10/100\n",
      "\u001B[1m430/430\u001B[0m \u001B[32m━━━━━━━━━━━━━━━━━━━━\u001B[0m\u001B[37m\u001B[0m \u001B[1m6s\u001B[0m 13ms/step - accuracy: 0.9678 - loss: 0.1135 - val_accuracy: 0.9788 - val_loss: 0.0799\n",
      "Epoch 11/100\n",
      "\u001B[1m430/430\u001B[0m \u001B[32m━━━━━━━━━━━━━━━━━━━━\u001B[0m\u001B[37m\u001B[0m \u001B[1m4s\u001B[0m 9ms/step - accuracy: 0.9701 - loss: 0.1072 - val_accuracy: 0.9816 - val_loss: 0.0772\n",
      "Epoch 12/100\n",
      "\u001B[1m430/430\u001B[0m \u001B[32m━━━━━━━━━━━━━━━━━━━━\u001B[0m\u001B[37m\u001B[0m \u001B[1m4s\u001B[0m 9ms/step - accuracy: 0.9722 - loss: 0.1008 - val_accuracy: 0.9808 - val_loss: 0.0794\n",
      "Epoch 13/100\n",
      "\u001B[1m430/430\u001B[0m \u001B[32m━━━━━━━━━━━━━━━━━━━━\u001B[0m\u001B[37m\u001B[0m \u001B[1m5s\u001B[0m 13ms/step - accuracy: 0.9716 - loss: 0.0989 - val_accuracy: 0.9808 - val_loss: 0.0786\n",
      "Epoch 14/100\n",
      "\u001B[1m430/430\u001B[0m \u001B[32m━━━━━━━━━━━━━━━━━━━━\u001B[0m\u001B[37m\u001B[0m \u001B[1m4s\u001B[0m 10ms/step - accuracy: 0.9726 - loss: 0.0990 - val_accuracy: 0.9816 - val_loss: 0.0783\n"
     ]
    }
   ]
  },
  {
   "cell_type": "markdown",
   "source": [
    "# **KRZYWE UCZENIA**"
   ],
   "metadata": {
    "id": "onxLDgB2PTtD"
   }
  },
  {
   "cell_type": "markdown",
   "source": [
    "Należy wykorzystać słownik (history.history). Krzywe uczenia: średnia funkcja straty uczenia i dokładność zmierzone w każdej epoce dla zestawu treningowego i walidacyjnego"
   ],
   "metadata": {
    "id": "KJv-2XKhPZfi"
   }
  },
  {
   "cell_type": "code",
   "source": [
    "import matplotlib.pyplot as plt\n",
    "\n",
    "\n",
    "history_dict = history.history\n",
    "\n",
    "\n",
    "plt.figure(figsize=(12, 6))\n",
    "\n",
    "plt.subplot(1, 2, 1)\n",
    "plt.plot(history_dict['loss'], label='Training loss')\n",
    "plt.plot(history_dict['val_loss'], label='Validation loss')\n",
    "plt.title('Loss over Epochs')\n",
    "plt.xlabel('Epoch')\n",
    "plt.ylabel('Loss')\n",
    "plt.legend()\n",
    "\n",
    "plt.subplot(1, 2, 2)\n",
    "plt.plot(history_dict['accuracy'], label='Training accuracy')\n",
    "plt.plot(history_dict['val_accuracy'], label='Validation accuracy')\n",
    "plt.title('Accuracy over Epochs')\n",
    "plt.xlabel('Epoch')\n",
    "plt.ylabel('Accuracy')\n",
    "plt.legend()\n",
    "\n",
    "plt.tight_layout()\n",
    "plt.show()\n"
   ],
   "metadata": {
    "id": "d61U25BnCz1S",
    "colab": {
     "base_uri": "https://localhost:8080/",
     "height": 470
    },
    "outputId": "931062aa-600a-4647-f0a2-c64df53d9c35",
    "ExecuteTime": {
     "end_time": "2024-11-20T21:58:03.652612Z",
     "start_time": "2024-11-20T21:58:02.258177Z"
    }
   },
   "outputs": [
    {
     "data": {
      "text/plain": [
       "<Figure size 1200x600 with 2 Axes>"
      ],
      "image/png": "[encoded data removed]"
     },
     "metadata": {},
     "output_type": "display_data"
    }
   ],
   "execution_count": 19
  },
  {
   "cell_type": "markdown",
   "source": [
    "Jak zinterpretować uzyskane wyniki?\n",
    "Krzywa straty pokazuje, jak model minimalizuje błąd w każdej epoce. Wartości straty oznaczają, jak \"daleko\" model jest od rzeczywistej odpowiedzi. Mniejsza wartość straty oznacza, że model lepiej dopasowuje swoje przewidywania do rzeczywistych danych.\n",
    "\n",
    "Treningowa strona (Training loss): Powinna maleć z każdą kolejną epoką, jeśli model się uczy. Jeśli straty osiągną plateau lub zaczną rosnąć, może to oznaczać, że model przestał się poprawiać lub zaczął przeuczać się na dane treningowe.\n",
    "\n",
    "Walidacyjna strona (Validation loss): Krzywa ta pokazuje, jak dobrze model generalizuje na nowych, niewidzianych danych. Idealnie, wartość walidacyjnej straty powinna maleć wraz z treningiem, ale jeśli zacznie rosnąć, oznacza to, że model zaczyna przeuczać się (overfitting) na zbiorze treningowym i nie potrafi dobrze radzić sobie z danymi walidacyjnymi.\n"
   ],
   "metadata": {
    "id": "T6OSNtxKQpNk"
   }
  },
  {
   "cell_type": "markdown",
   "source": [
    "Czy model jest przeuczony?\n",
    "Tak"
   ],
   "metadata": {
    "id": "ej9iYTOQHZ_8"
   }
  },
  {
   "cell_type": "markdown",
   "source": [
    "# **OCENA MODELU**"
   ],
   "metadata": {
    "id": "KOcmahOt9-iM"
   }
  },
  {
   "cell_type": "code",
   "source": [
    "\n",
    "from tensorflow.keras.utils import to_categorical\n",
    "\n",
    "# Konwersja etykiet do formatu one-hot\n",
    "y_test_one_hot = to_categorical(y_test, num_classes=10)\n",
    "\n",
    "# Ocena modelu na zbiorze testowym\n",
    "test_loss, test_accuracy = model.evaluate(X_test, y_test_one_hot, verbose=2)\n",
    "\n",
    "# Wyświetlenie wyników\n",
    "print(f\"Test Loss: {test_loss:.4f}\")\n",
    "print(f\"Test Accuracy: {test_accuracy:.4f}\")\n",
    "\n"
   ],
   "metadata": {
    "id": "XupVvt1K-Ces",
    "colab": {
     "base_uri": "https://localhost:8080/"
    },
    "outputId": "92b55771-1c44-47ec-bf26-a3549ebc3b75",
    "ExecuteTime": {
     "end_time": "2024-11-20T22:06:35.428600Z",
     "start_time": "2024-11-20T22:06:34.333509Z"
    }
   },
   "outputs": [
    {
     "name": "stdout",
     "output_type": "stream",
     "text": [
      "313/313 - 1s - 3ms/step - accuracy: 0.8857 - loss: 0.3089\n",
      "Test Loss: 0.3089\n",
      "Test Accuracy: 0.8857\n"
     ]
    }
   ],
   "execution_count": 21
  },
  {
   "cell_type": "markdown",
   "source": [
    "# **PROGNOZY MODELU**"
   ],
   "metadata": {
    "id": "wV-0Og2c-ISF"
   }
  },
  {
   "cell_type": "code",
   "source": [
    "import numpy as np\n",
    "predictions = model.predict(X_test, verbose=2)\n",
    "\n",
    "print(predictions[:5])\n",
    "\n",
    "\n",
    "predicted_classes = np.argmax(predictions, axis=1)\n",
    "\n",
    "print(predicted_classes[:5])\n"
   ],
   "metadata": {
    "id": "gDKg7IwAEYTd",
    "colab": {
     "base_uri": "https://localhost:8080/"
    },
    "outputId": "5f33ed38-d80c-4d0e-e681-451bca357537",
    "ExecuteTime": {
     "end_time": "2024-11-20T22:08:37.088876Z",
     "start_time": "2024-11-20T22:08:36.231532Z"
    }
   },
   "outputs": [
    {
     "name": "stdout",
     "output_type": "stream",
     "text": [
      "313/313 - 1s - 2ms/step\n",
      "[[7.8423572e-01 2.1750943e-06 3.8332276e-03 3.9266379e-04 1.9451823e-04\n",
      "  1.0005155e-07 2.1125048e-01 1.0514943e-09 9.1102374e-05 4.8341158e-09]\n",
      " [7.6992528e-08 9.9999905e-01 3.4048774e-08 8.4199269e-07 2.8142155e-09\n",
      "  1.6798909e-16 2.6066982e-09 9.2332646e-21 6.9216286e-12 3.5108491e-16]\n",
      " [3.6753230e-02 4.3222212e-04 7.2005570e-01 4.4557462e-03 2.3404205e-02\n",
      "  6.6281391e-05 2.1191923e-01 4.7308695e-06 2.8961746e-03 1.2498462e-05]\n",
      " [1.5568963e-01 5.7027428e-06 7.6014686e-01 5.1603123e-04 2.4058574e-03\n",
      "  2.8182703e-07 7.8797057e-02 1.4508631e-08 2.4384817e-03 9.8259889e-08]\n",
      " [1.7018841e-03 4.9667461e-03 2.0648394e-02 3.4233472e-01 5.8524281e-01\n",
      "  1.0922528e-06 3.6184441e-02 7.9923839e-06 8.6050835e-03 3.0689538e-04]]\n",
      "[0 1 2 2 4]\n"
     ]
    }
   ],
   "execution_count": 24
  },
  {
   "cell_type": "code",
   "source": [],
   "metadata": {
    "id": "kR6gTDPhEnsf"
   },
   "execution_count": null,
   "outputs": []
  },
  {
   "cell_type": "code",
   "source": [],
   "metadata": {
    "id": "4nmwxpG4E5qv",
    "colab": {
     "base_uri": "https://localhost:8080/"
    },
    "outputId": "dc534e8b-c7f2-46f9-a4a9-3778326ebb7e"
   },
   "execution_count": null,
   "outputs": [
    {
     "output_type": "stream",
     "name": "stdout",
     "text": [
      "Przewidywana etykieta:  [7 2 1 0 4 1 4 9 5 9]\n",
      "Rzeczywista etykieta:   [7 2 1 0 4 1 4 9 5 9]\n"
     ]
    }
   ]
  },
  {
   "cell_type": "markdown",
   "source": [
    "# **PONOWANE TRENOWANIE MODELU**"
   ],
   "metadata": {
    "id": "fwoaMLL1YzKr"
   }
  },
  {
   "cell_type": "code",
   "source": [
    "import numpy as np\n",
    "import tensorflow as tf\n",
    "from tensorflow.keras.models import Sequential\n",
    "from tensorflow.keras.layers import Dense\n",
    "from tensorflow.keras.utils import to_categorical\n",
    "from sklearn.model_selection import train_test_split\n",
    "\n",
    "# Example dataset: Replace with your actual dataset\n",
    "X = np.random.rand(100, 10)  # 100 samples, 10 features\n",
    "y = np.random.randint(0, 2, 100)  # 100 labels (0 or 1)\n",
    "\n",
    "# One-hot encode the labels for categorical cross-entropy\n",
    "y = to_categorical(y, num_classes=2)\n",
    "\n",
    "# Split the data into training and validation sets\n",
    "X_train, X_val, y_train, y_val = train_test_split(X, y, test_size=0.2, random_state=42)\n",
    "\n",
    "# Define the model\n",
    "model = Sequential()\n",
    "\n",
    "# Input layer (e.g., 10 features)\n",
    "model.add(Dense(64, input_dim=X_train.shape[1], activation='relu'))\n",
    "model.add(Dense(32, activation='relu'))\n",
    "\n",
    "# Output layer with 2 neurons and softmax activation for binary classification\n",
    "model.add(Dense(2, activation='softmax'))\n",
    "\n",
    "# Compile the model with categorical crossentropy loss for multi-class classification\n",
    "model.compile(optimizer='adam', loss='categorical_crossentropy', metrics=['accuracy'])\n",
    "\n",
    "# Train the model\n",
    "model.fit(X_train, y_train, epochs=10, batch_size=32, validation_data=(X_val, y_val))\n",
    "\n",
    "# Evaluate the model\n",
    "loss, accuracy = model.evaluate(X_val, y_val)\n",
    "print(f\"Validation Loss: {loss}\")\n",
    "print(f\"Validation Accuracy: {accuracy}\")\n"
   ],
   "metadata": {
    "id": "In7rJKlNzsTw",
    "ExecuteTime": {
     "end_time": "2024-11-20T22:12:23.812859Z",
     "start_time": "2024-11-20T22:12:20.530281Z"
    }
   },
   "outputs": [
    {
     "name": "stderr",
     "output_type": "stream",
     "text": [
      "C:\\Users\\tomek\\Documents\\MAGISTERSKIE\\3sem\\Playground5.0\\.venv\\Lib\\site-packages\\keras\\src\\layers\\core\\dense.py:87: UserWarning: Do not pass an `input_shape`/`input_dim` argument to a layer. When using Sequential models, prefer using an `Input(shape)` object as the first layer in the model instead.\n",
      "  super().__init__(activity_regularizer=activity_regularizer, **kwargs)\n"
     ]
    },
    {
     "name": "stdout",
     "output_type": "stream",
     "text": [
      "Epoch 1/10\n",
      "\u001B[1m3/3\u001B[0m \u001B[32m━━━━━━━━━━━━━━━━━━━━\u001B[0m\u001B[37m\u001B[0m \u001B[1m2s\u001B[0m 154ms/step - accuracy: 0.5641 - loss: 0.6824 - val_accuracy: 0.5000 - val_loss: 0.6801\n",
      "Epoch 2/10\n",
      "\u001B[1m3/3\u001B[0m \u001B[32m━━━━━━━━━━━━━━━━━━━━\u001B[0m\u001B[37m\u001B[0m \u001B[1m0s\u001B[0m 24ms/step - accuracy: 0.6711 - loss: 0.6732 - val_accuracy: 0.5500 - val_loss: 0.6761\n",
      "Epoch 3/10\n",
      "\u001B[1m3/3\u001B[0m \u001B[32m━━━━━━━━━━━━━━━━━━━━\u001B[0m\u001B[37m\u001B[0m \u001B[1m0s\u001B[0m 31ms/step - accuracy: 0.6094 - loss: 0.6729 - val_accuracy: 0.6500 - val_loss: 0.6729\n",
      "Epoch 4/10\n",
      "\u001B[1m3/3\u001B[0m \u001B[32m━━━━━━━━━━━━━━━━━━━━\u001B[0m\u001B[37m\u001B[0m \u001B[1m0s\u001B[0m 23ms/step - accuracy: 0.6273 - loss: 0.6644 - val_accuracy: 0.6500 - val_loss: 0.6713\n",
      "Epoch 5/10\n",
      "\u001B[1m3/3\u001B[0m \u001B[32m━━━━━━━━━━━━━━━━━━━━\u001B[0m\u001B[37m\u001B[0m \u001B[1m0s\u001B[0m 22ms/step - accuracy: 0.6477 - loss: 0.6603 - val_accuracy: 0.6500 - val_loss: 0.6709\n",
      "Epoch 6/10\n",
      "\u001B[1m3/3\u001B[0m \u001B[32m━━━━━━━━━━━━━━━━━━━━\u001B[0m\u001B[37m\u001B[0m \u001B[1m0s\u001B[0m 19ms/step - accuracy: 0.6594 - loss: 0.6569 - val_accuracy: 0.6500 - val_loss: 0.6717\n",
      "Epoch 7/10\n",
      "\u001B[1m3/3\u001B[0m \u001B[32m━━━━━━━━━━━━━━━━━━━━\u001B[0m\u001B[37m\u001B[0m \u001B[1m0s\u001B[0m 25ms/step - accuracy: 0.6633 - loss: 0.6525 - val_accuracy: 0.6500 - val_loss: 0.6723\n",
      "Epoch 8/10\n",
      "\u001B[1m3/3\u001B[0m \u001B[32m━━━━━━━━━━━━━━━━━━━━\u001B[0m\u001B[37m\u001B[0m \u001B[1m0s\u001B[0m 23ms/step - accuracy: 0.6648 - loss: 0.6475 - val_accuracy: 0.6500 - val_loss: 0.6736\n",
      "Epoch 9/10\n",
      "\u001B[1m3/3\u001B[0m \u001B[32m━━━━━━━━━━━━━━━━━━━━\u001B[0m\u001B[37m\u001B[0m \u001B[1m0s\u001B[0m 19ms/step - accuracy: 0.6258 - loss: 0.6463 - val_accuracy: 0.6000 - val_loss: 0.6752\n",
      "Epoch 10/10\n",
      "\u001B[1m3/3\u001B[0m \u001B[32m━━━━━━━━━━━━━━━━━━━━\u001B[0m\u001B[37m\u001B[0m \u001B[1m0s\u001B[0m 23ms/step - accuracy: 0.6625 - loss: 0.6382 - val_accuracy: 0.6500 - val_loss: 0.6773\n",
      "\u001B[1m1/1\u001B[0m \u001B[32m━━━━━━━━━━━━━━━━━━━━\u001B[0m\u001B[37m\u001B[0m \u001B[1m0s\u001B[0m 38ms/step - accuracy: 0.6500 - loss: 0.6773\n",
      "Validation Loss: 0.6773189306259155\n",
      "Validation Accuracy: 0.6499999761581421\n"
     ]
    }
   ],
   "execution_count": 28
  },
  {
   "cell_type": "markdown",
   "source": [
    "# **Ocena modelu na zbiorze testowym**"
   ],
   "metadata": {
    "id": "GGW8tIqcth3T"
   }
  },
  {
   "cell_type": "code",
   "source": [
    "from tensorflow.keras.models import Sequential\n",
    "from tensorflow.keras.layers import Dense, Flatten\n",
    "\n",
    "# Tworzymy model\n",
    "model = Sequential()\n",
    "\n",
    "# Warstwa wejściowa, spłaszczająca dane wejściowe (28x28)\n",
    "model.add(Flatten(input_shape=(28, 28)))\n",
    "\n",
    "# Dodajemy warstwy ukryte\n",
    "model.add(Dense(128, activation='relu'))\n",
    "\n",
    "# Warstwa wyjściowa, dla klasyfikacji 10 klas\n",
    "model.add(Dense(10, activation='softmax'))\n",
    "\n",
    "# Kompilowanie modelu\n",
    "model.compile(optimizer='adam', loss='categorical_crossentropy', metrics=['accuracy'])\n",
    "\n",
    "# Model jest gotowy do trenowania\n",
    "model.summary()\n"
   ],
   "metadata": {
    "id": "k6uBESHyztqe",
    "ExecuteTime": {
     "end_time": "2024-11-20T22:13:45.067171Z",
     "start_time": "2024-11-20T22:13:45.004859Z"
    }
   },
   "outputs": [
    {
     "name": "stderr",
     "output_type": "stream",
     "text": [
      "C:\\Users\\tomek\\Documents\\MAGISTERSKIE\\3sem\\Playground5.0\\.venv\\Lib\\site-packages\\keras\\src\\layers\\reshaping\\flatten.py:37: UserWarning: Do not pass an `input_shape`/`input_dim` argument to a layer. When using Sequential models, prefer using an `Input(shape)` object as the first layer in the model instead.\n",
      "  super().__init__(**kwargs)\n"
     ]
    },
    {
     "data": {
      "text/plain": [
       "\u001B[1mModel: \"sequential_3\"\u001B[0m\n"
      ],
      "text/html": [
       "<pre style=\"white-space:pre;overflow-x:auto;line-height:normal;font-family:Menlo,'DejaVu Sans Mono',consolas,'Courier New',monospace\"><span style=\"font-weight: bold\">Model: \"sequential_3\"</span>\n",
       "</pre>\n"
      ]
     },
     "metadata": {},
     "output_type": "display_data"
    },
    {
     "data": {
      "text/plain": [
       "┏━━━━━━━━━━━━━━━━━━━━━━━━━━━━━━━━━┳━━━━━━━━━━━━━━━━━━━━━━━━┳━━━━━━━━━━━━━━━┓\n",
       "┃\u001B[1m \u001B[0m\u001B[1mLayer (type)                   \u001B[0m\u001B[1m \u001B[0m┃\u001B[1m \u001B[0m\u001B[1mOutput Shape          \u001B[0m\u001B[1m \u001B[0m┃\u001B[1m \u001B[0m\u001B[1m      Param #\u001B[0m\u001B[1m \u001B[0m┃\n",
       "┡━━━━━━━━━━━━━━━━━━━━━━━━━━━━━━━━━╇━━━━━━━━━━━━━━━━━━━━━━━━╇━━━━━━━━━━━━━━━┩\n",
       "│ flatten_2 (\u001B[38;5;33mFlatten\u001B[0m)             │ (\u001B[38;5;45mNone\u001B[0m, \u001B[38;5;34m784\u001B[0m)            │             \u001B[38;5;34m0\u001B[0m │\n",
       "├─────────────────────────────────┼────────────────────────┼───────────────┤\n",
       "│ dense_8 (\u001B[38;5;33mDense\u001B[0m)                 │ (\u001B[38;5;45mNone\u001B[0m, \u001B[38;5;34m128\u001B[0m)            │       \u001B[38;5;34m100,480\u001B[0m │\n",
       "├─────────────────────────────────┼────────────────────────┼───────────────┤\n",
       "│ dense_9 (\u001B[38;5;33mDense\u001B[0m)                 │ (\u001B[38;5;45mNone\u001B[0m, \u001B[38;5;34m10\u001B[0m)             │         \u001B[38;5;34m1,290\u001B[0m │\n",
       "└─────────────────────────────────┴────────────────────────┴───────────────┘\n"
      ],
      "text/html": [
       "<pre style=\"white-space:pre;overflow-x:auto;line-height:normal;font-family:Menlo,'DejaVu Sans Mono',consolas,'Courier New',monospace\">┏━━━━━━━━━━━━━━━━━━━━━━━━━━━━━━━━━┳━━━━━━━━━━━━━━━━━━━━━━━━┳━━━━━━━━━━━━━━━┓\n",
       "┃<span style=\"font-weight: bold\"> Layer (type)                    </span>┃<span style=\"font-weight: bold\"> Output Shape           </span>┃<span style=\"font-weight: bold\">       Param # </span>┃\n",
       "┡━━━━━━━━━━━━━━━━━━━━━━━━━━━━━━━━━╇━━━━━━━━━━━━━━━━━━━━━━━━╇━━━━━━━━━━━━━━━┩\n",
       "│ flatten_2 (<span style=\"color: #0087ff; text-decoration-color: #0087ff\">Flatten</span>)             │ (<span style=\"color: #00d7ff; text-decoration-color: #00d7ff\">None</span>, <span style=\"color: #00af00; text-decoration-color: #00af00\">784</span>)            │             <span style=\"color: #00af00; text-decoration-color: #00af00\">0</span> │\n",
       "├─────────────────────────────────┼────────────────────────┼───────────────┤\n",
       "│ dense_8 (<span style=\"color: #0087ff; text-decoration-color: #0087ff\">Dense</span>)                 │ (<span style=\"color: #00d7ff; text-decoration-color: #00d7ff\">None</span>, <span style=\"color: #00af00; text-decoration-color: #00af00\">128</span>)            │       <span style=\"color: #00af00; text-decoration-color: #00af00\">100,480</span> │\n",
       "├─────────────────────────────────┼────────────────────────┼───────────────┤\n",
       "│ dense_9 (<span style=\"color: #0087ff; text-decoration-color: #0087ff\">Dense</span>)                 │ (<span style=\"color: #00d7ff; text-decoration-color: #00d7ff\">None</span>, <span style=\"color: #00af00; text-decoration-color: #00af00\">10</span>)             │         <span style=\"color: #00af00; text-decoration-color: #00af00\">1,290</span> │\n",
       "└─────────────────────────────────┴────────────────────────┴───────────────┘\n",
       "</pre>\n"
      ]
     },
     "metadata": {},
     "output_type": "display_data"
    },
    {
     "data": {
      "text/plain": [
       "\u001B[1m Total params: \u001B[0m\u001B[38;5;34m101,770\u001B[0m (397.54 KB)\n"
      ],
      "text/html": [
       "<pre style=\"white-space:pre;overflow-x:auto;line-height:normal;font-family:Menlo,'DejaVu Sans Mono',consolas,'Courier New',monospace\"><span style=\"font-weight: bold\"> Total params: </span><span style=\"color: #00af00; text-decoration-color: #00af00\">101,770</span> (397.54 KB)\n",
       "</pre>\n"
      ]
     },
     "metadata": {},
     "output_type": "display_data"
    },
    {
     "data": {
      "text/plain": [
       "\u001B[1m Trainable params: \u001B[0m\u001B[38;5;34m101,770\u001B[0m (397.54 KB)\n"
      ],
      "text/html": [
       "<pre style=\"white-space:pre;overflow-x:auto;line-height:normal;font-family:Menlo,'DejaVu Sans Mono',consolas,'Courier New',monospace\"><span style=\"font-weight: bold\"> Trainable params: </span><span style=\"color: #00af00; text-decoration-color: #00af00\">101,770</span> (397.54 KB)\n",
       "</pre>\n"
      ]
     },
     "metadata": {},
     "output_type": "display_data"
    },
    {
     "data": {
      "text/plain": [
       "\u001B[1m Non-trainable params: \u001B[0m\u001B[38;5;34m0\u001B[0m (0.00 B)\n"
      ],
      "text/html": [
       "<pre style=\"white-space:pre;overflow-x:auto;line-height:normal;font-family:Menlo,'DejaVu Sans Mono',consolas,'Courier New',monospace\"><span style=\"font-weight: bold\"> Non-trainable params: </span><span style=\"color: #00af00; text-decoration-color: #00af00\">0</span> (0.00 B)\n",
       "</pre>\n"
      ]
     },
     "metadata": {},
     "output_type": "display_data"
    }
   ],
   "execution_count": 31
  },
  {
   "cell_type": "markdown",
   "source": [
    "# **PROGNOZY MODELU**"
   ],
   "metadata": {
    "id": "Tz2GXJF0Sl5E"
   }
  },
  {
   "cell_type": "code",
   "source": [
    "import matplotlib.pyplot as plt\n",
    "from sklearn.metrics import accuracy_score, classification_report\n",
    "\n",
    "# Krok 1: Generowanie prognoz na zbiorze testowym\n",
    "predictions = model.predict(X_test)\n",
    "\n",
    "print(\"Pierwsze 5 prognoz (prawdopodobieństwa dla każdej klasy):\")\n",
    "print(predictions[:5])  # Wyświetl pierwsze 5 prognoz\n",
    "\n",
    "# Krok 2: Uzyskiwanie etykiet klas z prawdopodobieństw\n",
    "predicted_classes = predictions.argmax(axis=-1)\n",
    "\n",
    "print(\"\\nPierwsze 5 przewidywanych klas:\")\n",
    "print(predicted_classes[:5])  # Wyświetl pierwsze 5 przewidywanych klas\n",
    "\n",
    "# Krok 3: Ewaluacja modelu\n",
    "accuracy = accuracy_score(y_test, predicted_classes)\n",
    "print(f\"\\nDokładność modelu: {accuracy:.4f}\")\n",
    "\n",
    "print(\"\\nRaport klasyfikacji:\")\n",
    "print(classification_report(y_test, predicted_classes))\n",
    "\n",
    "# Krok 4: Wizualizacja wyników\n",
    "for i in range(5):\n",
    "    plt.imshow(X_test[i].reshape(28, 28), cmap='gray')  # Załóżmy, że obrazy mają rozmiar 28x28\n",
    "    plt.title(f\"Predykcja: {predicted_classes[i]}, Prawdziwa etykieta: {y_test[i]}\")\n",
    "    plt.show()\n"
   ],
   "metadata": {
    "id": "xsFZlc-7zusu",
    "ExecuteTime": {
     "end_time": "2024-11-20T22:15:31.279034Z",
     "start_time": "2024-11-20T22:15:29.241952Z"
    }
   },
   "outputs": [
    {
     "name": "stdout",
     "output_type": "stream",
     "text": [
      "\u001B[1m313/313\u001B[0m \u001B[32m━━━━━━━━━━━━━━━━━━━━\u001B[0m\u001B[37m\u001B[0m \u001B[1m1s\u001B[0m 2ms/step\n",
      "Pierwsze 5 prognoz (prawdopodobieństwa dla każdej klasy):\n",
      "[[0.05333728 0.08130257 0.10675396 0.05268517 0.04518548 0.25705257\n",
      "  0.15235771 0.08289944 0.09775472 0.07067119]\n",
      " [0.10209727 0.12056757 0.07958106 0.08654    0.06549908 0.1303403\n",
      "  0.09744853 0.1527469  0.11931968 0.04585961]\n",
      " [0.10520916 0.06771262 0.09824713 0.08176891 0.07086261 0.14328237\n",
      "  0.12432709 0.10283834 0.11456186 0.09118989]\n",
      " [0.0695549  0.11249776 0.07816093 0.09023503 0.03635486 0.10056351\n",
      "  0.20417392 0.04340924 0.17554532 0.08950453]\n",
      " [0.0625845  0.14034338 0.10862464 0.12729326 0.0435076  0.12167048\n",
      "  0.1369956  0.12867363 0.10455167 0.0257552 ]]\n",
      "\n",
      "Pierwsze 5 przewidywanych klas:\n",
      "[5 7 5 6 1]\n",
      "\n",
      "Dokładność modelu: 0.0797\n",
      "\n",
      "Raport klasyfikacji:\n",
      "              precision    recall  f1-score   support\n",
      "\n",
      "           0       0.01      0.00      0.00      1000\n",
      "           1       0.05      0.01      0.01      1000\n",
      "           2       0.09      0.07      0.08      1000\n",
      "           3       0.03      0.01      0.02      1000\n",
      "           4       0.00      0.00      0.00      1000\n",
      "           5       0.08      0.19      0.11      1000\n",
      "           6       0.05      0.20      0.08      1000\n",
      "           7       0.14      0.29      0.19      1000\n",
      "           8       0.12      0.03      0.05      1000\n",
      "           9       0.00      0.00      0.00      1000\n",
      "\n",
      "    accuracy                           0.08     10000\n",
      "   macro avg       0.06      0.08      0.05     10000\n",
      "weighted avg       0.06      0.08      0.05     10000\n",
      "\n"
     ]
    },
    {
     "data": {
      "text/plain": [
       "<Figure size 640x480 with 1 Axes>"
      ],
      "image/png": "[encoded data removed]"
     },
     "metadata": {},
     "output_type": "display_data"
    },
    {
     "data": {
      "text/plain": [
       "<Figure size 640x480 with 1 Axes>"
      ],
      "image/png": "[encoded data removed]"
     },
     "metadata": {},
     "output_type": "display_data"
    },
    {
     "data": {
      "text/plain": [
       "<Figure size 640x480 with 1 Axes>"
      ],
      "image/png": "[encoded data removed]"
     },
     "metadata": {},
     "output_type": "display_data"
    },
    {
     "data": {
      "text/plain": [
       "<Figure size 640x480 with 1 Axes>"
      ],
      "image/png": "[encoded data removed]"
     },
     "metadata": {},
     "output_type": "display_data"
    },
    {
     "data": {
      "text/plain": [
       "<Figure size 640x480 with 1 Axes>"
      ],
      "image/png": "[encoded data removed]"
     },
     "metadata": {},
     "output_type": "display_data"
    }
   ],
   "execution_count": 32
  }
 ]
}
